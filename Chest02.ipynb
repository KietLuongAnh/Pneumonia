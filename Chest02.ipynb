{
  "nbformat": 4,
  "nbformat_minor": 0,
  "metadata": {
    "colab": {
      "name": "Chest02",
      "provenance": [],
      "collapsed_sections": [],
      "toc_visible": true
    },
    "kernelspec": {
      "name": "python3",
      "display_name": "Python 3"
    },
    "language_info": {
      "name": "python"
    },
    "accelerator": "GPU",
    "gpuClass": "standard"
  },
  "cells": [
    {
      "cell_type": "markdown",
      "source": [
        "# Khai báo các thư viện"
      ],
      "metadata": {
        "id": "rsrblrAYjgbI"
      }
    },
    {
      "cell_type": "code",
      "execution_count": null,
      "metadata": {
        "id": "b9FtxJR8jD4x"
      },
      "outputs": [],
      "source": [
        "import numpy as np\n",
        "import tensorflow as tf\n",
        "from tensorflow import keras\n",
        "from tensorflow.keras.preprocessing.image import  ImageDataGenerator\n",
        "import matplotlib.pyplot as plt\n",
        "import pickle\n",
        "from sklearn.utils import shuffle\n",
        "from __future__ import absolute_import, division, print_function, unicode_literals\n",
        "import matplotlib.pylab as plt\n",
        "import tensorflow as tf\n",
        "import pandas as pd\n",
        "from tensorflow.keras import datasets,layers,models\n",
        "import matplotlib.pyplot as plt\n",
        "from keras.utils import np_utils\n",
        "from keras.models import Sequential\n",
        "from keras.layers import Dense,Activation,Flatten, Conv2D, MaxPooling2D, Dropout \n",
        "from tensorflow.keras.optimizers import SGD,RMSprop,Adam"
      ]
    },
    {
      "cell_type": "markdown",
      "source": [
        "#Tạo dữ liệu train từ Drive"
      ],
      "metadata": {
        "id": "M0dEUI9LbujZ"
      }
    },
    {
      "cell_type": "code",
      "source": [
        "from google.colab import drive\n",
        "drive.mount('/content/gdrive', force_remount=True)"
      ],
      "metadata": {
        "colab": {
          "base_uri": "https://localhost:8080/"
        },
        "id": "5S08m2_1ZuWt",
        "outputId": "c87b3ae3-da4c-4dd4-9ea1-551bf4daedef"
      },
      "execution_count": null,
      "outputs": [
        {
          "output_type": "stream",
          "name": "stdout",
          "text": [
            "Mounted at /content/gdrive\n"
          ]
        }
      ]
    },
    {
      "cell_type": "code",
      "source": [
        "dataset_path = '/content/gdrive/MyDrive/chest_xray/train/'"
      ],
      "metadata": {
        "id": "sL0JG3GZaG0p"
      },
      "execution_count": null,
      "outputs": []
    },
    {
      "cell_type": "code",
      "source": [
        "image_size = (150,150)\n",
        "TRAINING_DATA_DIR = str(dataset_path)\n",
        "print(TRAINING_DATA_DIR)\n",
        "\n",
        "# modify data\n",
        "kwargs_datagen = dict(rescale=1./255, validation_split=0.2) # 20 percent for validation\n",
        "\n",
        "# validation data modify \n",
        "valid_datagen = ImageDataGenerator(**kwargs_datagen)\n",
        "valid_generator = valid_datagen.flow_from_directory(TRAINING_DATA_DIR, subset=\"validation\", \n",
        "                                                    shuffle=True, target_size=image_size)\n",
        "\n",
        "# train data modify\n",
        "train_datagen = ImageDataGenerator(**kwargs_datagen)\n",
        "train_generator = train_datagen.flow_from_directory(TRAINING_DATA_DIR,subset=\"training\",\n",
        "                                                    shuffle=True,target_size=image_size)\n",
        "\n",
        "\"\"\"*Sắp xếp và match labels*\"\"\"\n",
        "\n",
        "image_batch_train, label_batch_train = next(iter(train_generator))\n",
        "print(\"image batch shape: \", image_batch_train.shape)\n",
        "print(\"label batch shape: \", label_batch_train.shape)\n",
        "dataset_labels = sorted(train_generator.class_indices.items(), key=lambda pair:pair[1])\n",
        "dataset_labels = np.array([key.title() for key, value in dataset_labels])\n",
        "print(\"labels: \", dataset_labels)\n",
        "print(\"match class: \", train_generator.class_indices)"
      ],
      "metadata": {
        "colab": {
          "base_uri": "https://localhost:8080/"
        },
        "id": "k6BJpuqac-_x",
        "outputId": "cce822e3-f8be-410e-cf94-daa2a32e8dcb"
      },
      "execution_count": null,
      "outputs": [
        {
          "output_type": "stream",
          "name": "stdout",
          "text": [
            "/content/gdrive/MyDrive/chest_xray/train/\n",
            "Found 1043 images belonging to 2 classes.\n",
            "Found 4173 images belonging to 2 classes.\n",
            "image batch shape:  (32, 150, 150, 3)\n",
            "label batch shape:  (32, 2)\n",
            "labels:  ['Normal' 'Pneumonia']\n",
            "match class:  {'NORMAL': 0, 'PNEUMONIA': 1}\n"
          ]
        }
      ]
    },
    {
      "cell_type": "markdown",
      "source": [
        "# Tạo model \n"
      ],
      "metadata": {
        "id": "lsXCL3DGj0SO"
      }
    },
    {
      "cell_type": "code",
      "source": [
        "\n",
        "#tao model\n",
        "\n",
        "model = Sequential()\n",
        "model.add(Conv2D(32, (3,3), kernel_initializer= 'he_uniform', padding= 'same',  input_shape= (150,150,3)))  # Kernel = 3x3, du lieu dau vao (150,150,3) \n",
        "model.add(Conv2D(32, (3,3), kernel_initializer= 'he_uniform', padding= 'same'))\n",
        "model.add(MaxPooling2D((2,2)))\n",
        "\n",
        "model.add(Conv2D(64, (3,3), kernel_initializer= 'he_uniform', padding= 'same'))\n",
        "model.add(Conv2D(64, (3,3), kernel_initializer= 'he_uniform', padding= 'same'))\n",
        "model.add(MaxPooling2D((2,2)))\n",
        "\n",
        "model.add(Conv2D(128, (3,3), kernel_initializer= 'he_uniform', padding= 'same'))\n",
        "model.add(Conv2D(128, (3,3), kernel_initializer= 'he_uniform', padding= 'same'))\n",
        "model.add(MaxPooling2D((2,2)))\n",
        "\n",
        "\n",
        "\n",
        "model.add(Conv2D(256, (3,3), kernel_initializer= 'he_uniform', padding= 'same'))\n",
        "model.add(Conv2D(256, (3,3), kernel_initializer= 'he_uniform', padding= 'same'))\n",
        "model.add(MaxPooling2D((2,2)))\n",
        "\n",
        "model.add(Conv2D(512, (3,3), kernel_initializer= 'he_uniform', padding= 'same'))\n",
        "model.add(Conv2D(512, (3,3), kernel_initializer= 'he_uniform', padding= 'same'))\n",
        "model.add(MaxPooling2D((2,2)))\n",
        "#ANN training\n",
        "model.add(Flatten())\n",
        "model.add(Dense(512, activation= 'relu'))\n",
        "model.add(Dense(256, activation='relu'))\n",
        "model.add(Dense(128, activation='relu'))\n",
        "model.add(Dense(2, activation= 'softmax'))\n",
        "\n",
        "model.summary()"
      ],
      "metadata": {
        "colab": {
          "base_uri": "https://localhost:8080/"
        },
        "id": "RVTitdpTjKSv",
        "outputId": "650629ac-a018-40d5-8d07-3ecfa1ffcbb2"
      },
      "execution_count": null,
      "outputs": [
        {
          "output_type": "stream",
          "name": "stdout",
          "text": [
            "Model: \"sequential\"\n",
            "_________________________________________________________________\n",
            " Layer (type)                Output Shape              Param #   \n",
            "=================================================================\n",
            " conv2d (Conv2D)             (None, 150, 150, 32)      896       \n",
            "                                                                 \n",
            " conv2d_1 (Conv2D)           (None, 150, 150, 32)      9248      \n",
            "                                                                 \n",
            " max_pooling2d (MaxPooling2D  (None, 75, 75, 32)       0         \n",
            " )                                                               \n",
            "                                                                 \n",
            " conv2d_2 (Conv2D)           (None, 75, 75, 64)        18496     \n",
            "                                                                 \n",
            " conv2d_3 (Conv2D)           (None, 75, 75, 64)        36928     \n",
            "                                                                 \n",
            " max_pooling2d_1 (MaxPooling  (None, 37, 37, 64)       0         \n",
            " 2D)                                                             \n",
            "                                                                 \n",
            " conv2d_4 (Conv2D)           (None, 37, 37, 128)       73856     \n",
            "                                                                 \n",
            " conv2d_5 (Conv2D)           (None, 37, 37, 128)       147584    \n",
            "                                                                 \n",
            " max_pooling2d_2 (MaxPooling  (None, 18, 18, 128)      0         \n",
            " 2D)                                                             \n",
            "                                                                 \n",
            " conv2d_6 (Conv2D)           (None, 18, 18, 256)       295168    \n",
            "                                                                 \n",
            " conv2d_7 (Conv2D)           (None, 18, 18, 256)       590080    \n",
            "                                                                 \n",
            " max_pooling2d_3 (MaxPooling  (None, 9, 9, 256)        0         \n",
            " 2D)                                                             \n",
            "                                                                 \n",
            " conv2d_8 (Conv2D)           (None, 9, 9, 512)         1180160   \n",
            "                                                                 \n",
            " conv2d_9 (Conv2D)           (None, 9, 9, 512)         2359808   \n",
            "                                                                 \n",
            " max_pooling2d_4 (MaxPooling  (None, 4, 4, 512)        0         \n",
            " 2D)                                                             \n",
            "                                                                 \n",
            " flatten (Flatten)           (None, 8192)              0         \n",
            "                                                                 \n",
            " dense (Dense)               (None, 512)               4194816   \n",
            "                                                                 \n",
            " dense_1 (Dense)             (None, 256)               131328    \n",
            "                                                                 \n",
            " dense_2 (Dense)             (None, 128)               32896     \n",
            "                                                                 \n",
            " dense_3 (Dense)             (None, 2)                 258       \n",
            "                                                                 \n",
            "=================================================================\n",
            "Total params: 9,071,522\n",
            "Trainable params: 9,071,522\n",
            "Non-trainable params: 0\n",
            "_________________________________________________________________\n"
          ]
        }
      ]
    },
    {
      "cell_type": "markdown",
      "source": [
        "# Khai báo các thông số training & Compile model"
      ],
      "metadata": {
        "id": "RZRG_FMgkEHa"
      }
    },
    {
      "cell_type": "code",
      "source": [
        "\n",
        "num_batch = 16\n",
        "num_epochs = 10\n",
        "# optimizer = SGD(lr = 0.01, momentum= 0.9)\n",
        "optimizer = Adam()\n",
        "# train_img = x_train\n",
        "# train_lbl = y_train \n",
        "\n",
        "# Compile model\n",
        "model.compile(optimizer= optimizer, loss = 'binary_crossentropy', metrics= 'accuracy')"
      ],
      "metadata": {
        "id": "P0TXZDvLkKFB"
      },
      "execution_count": null,
      "outputs": []
    },
    {
      "cell_type": "markdown",
      "source": [
        "# Training "
      ],
      "metadata": {
        "id": "jB5o8feyj9tW"
      }
    },
    {
      "cell_type": "code",
      "source": [
        "history1=model.fit(train_generator,epochs= num_epochs,batch_size= num_batch, validation_data=valid_generator, verbose=1)"
      ],
      "metadata": {
        "colab": {
          "base_uri": "https://localhost:8080/"
        },
        "id": "Uc9lccSMjTtG",
        "outputId": "d732a809-be5f-42dd-ce83-f61e2d81c459"
      },
      "execution_count": null,
      "outputs": [
        {
          "output_type": "stream",
          "name": "stdout",
          "text": [
            "Epoch 1/10\n",
            "131/131 [==============================] - 1049s 8s/step - loss: 40.4782 - accuracy: 0.7132 - val_loss: 0.2988 - val_accuracy: 0.8648\n",
            "Epoch 2/10\n",
            "131/131 [==============================] - 62s 477ms/step - loss: 0.2297 - accuracy: 0.9111 - val_loss: 0.1588 - val_accuracy: 0.9386\n",
            "Epoch 3/10\n",
            "131/131 [==============================] - 61s 465ms/step - loss: 0.1773 - accuracy: 0.9343 - val_loss: 0.1862 - val_accuracy: 0.9300\n",
            "Epoch 4/10\n",
            "131/131 [==============================] - 60s 461ms/step - loss: 0.1196 - accuracy: 0.9578 - val_loss: 0.1298 - val_accuracy: 0.9492\n",
            "Epoch 5/10\n",
            "131/131 [==============================] - 61s 463ms/step - loss: 0.1119 - accuracy: 0.9593 - val_loss: 0.0999 - val_accuracy: 0.9655\n",
            "Epoch 6/10\n",
            "131/131 [==============================] - 61s 466ms/step - loss: 0.0894 - accuracy: 0.9667 - val_loss: 0.1010 - val_accuracy: 0.9636\n",
            "Epoch 7/10\n",
            "131/131 [==============================] - 61s 465ms/step - loss: 0.0892 - accuracy: 0.9705 - val_loss: 0.0809 - val_accuracy: 0.9684\n",
            "Epoch 8/10\n",
            "131/131 [==============================] - 60s 462ms/step - loss: 0.0945 - accuracy: 0.9674 - val_loss: 0.0968 - val_accuracy: 0.9674\n",
            "Epoch 9/10\n",
            "131/131 [==============================] - 62s 470ms/step - loss: 0.0888 - accuracy: 0.9712 - val_loss: 0.1202 - val_accuracy: 0.9588\n",
            "Epoch 10/10\n",
            "131/131 [==============================] - 60s 461ms/step - loss: 0.0481 - accuracy: 0.9844 - val_loss: 0.0789 - val_accuracy: 0.9732\n"
          ]
        }
      ]
    },
    {
      "cell_type": "code",
      "source": [
        "from keras.models import load_model\n",
        "model= model."
      ],
      "metadata": {
        "id": "hdj9wX53xFWC"
      },
      "execution_count": null,
      "outputs": []
    },
    {
      "cell_type": "markdown",
      "source": [
        "# Đồ thị biểu diễn các giá trị training "
      ],
      "metadata": {
        "id": "Nw72TdQ3lU9a"
      }
    },
    {
      "cell_type": "code",
      "source": [
        "#Vẽ đồ thị loss \n",
        "plt.subplot(2,1,1)\n",
        "plt.plot(history1.history['loss'])\n",
        "plt.title('Model Loss')\n",
        "plt.ylabel('Loss')\n",
        "plt.xlabel('Epoch')\n",
        "plt.legend(['train','validation'])\n",
        "plt.show()\n",
        "#Vẽ đồ thị Accuracy\n",
        "plt.subplot(2,1,2)\n",
        "plt.plot(history1.history['accuracy'])\n",
        "plt.title('Model Accuracy')\n",
        "plt.ylabel('Accuracy')\n",
        "plt.xlabel('Epoch')\n",
        "plt.legend(['train','validation'])\n",
        "plt.show()"
      ],
      "metadata": {
        "id": "hwjgZrEmleqh",
        "colab": {
          "base_uri": "https://localhost:8080/",
          "height": 337
        },
        "outputId": "cd06653e-6d02-4997-c67b-e6c5e1ac2b94"
      },
      "execution_count": null,
      "outputs": [
        {
          "output_type": "display_data",
          "data": {
            "text/plain": [
              "<Figure size 432x288 with 1 Axes>"
            ],
            "image/png": "[encoded data removed]"
          },
          "metadata": {
            "needs_background": "light"
          }
        },
        {
          "output_type": "display_data",
          "data": {
            "text/plain": [
              "<Figure size 432x288 with 1 Axes>"
            ],
            "image/png": "[encoded data removed]"
          },
          "metadata": {
            "needs_background": "light"
          }
        }
      ]
    },
    {
      "cell_type": "code",
      "source": [
        "import pandas as pd\n",
        "\n",
        "pd.DataFrame(history1.history).plot(figsize=(8,5))\n",
        "plt.grid(True)\n",
        "plt.gca().set_ylim(0,1)\n",
        "plt.show()\n",
        "\n",
        "plt.plot(history1.history['accuracy'])\n",
        "plt.title('model accuracy')\n",
        "plt.ylabel('accuracy')\n",
        "plt.xlabel('epoch')\n",
        "plt.legend(['train', 'validation'], loc = 'upper left')\n",
        "plt.show()"
      ],
      "metadata": {
        "colab": {
          "base_uri": "https://localhost:8080/",
          "height": 602
        },
        "id": "2bWB3rzoHT0h",
        "outputId": "edf46da4-1804-4f8c-a1a6-ccb38504f6be"
      },
      "execution_count": null,
      "outputs": [
        {
          "output_type": "display_data",
          "data": {
            "text/plain": [
              "<Figure size 576x360 with 1 Axes>"
            ],
            "image/png": "[encoded data removed]"
          },
          "metadata": {
            "needs_background": "light"
          }
        },
        {
          "output_type": "display_data",
          "data": {
            "text/plain": [
              "<Figure size 432x288 with 1 Axes>"
            ],
            "image/png": "[encoded data removed]"
          },
          "metadata": {
            "needs_background": "light"
          }
        }
      ]
    },
    {
      "cell_type": "markdown",
      "source": [
        "#Chuẩn đoán bệnh Viêm phổi bằng ảnh X quang \n",
        "### Sử dụng model vừa được train ở phần training để dự đoán tình trạng của bệnh nhân thông qua ảnh x quang được upload lên \n",
        "Các ảnh X quang dùng để test được chia làm 2 loại:\n",
        "  - Loại thứ nhất là ảnh X quang của người có tình trạng phổi bình thường\n",
        "  - Loại thứ hai là ảnh X quang của người bị viêm phổi \n",
        "\n",
        "### Kết quả dự đoán tình trạng bệnh viêm phổi bằng ảnh X quang được trình bày qua giá trị của biến 'pred'.\n",
        "  - Nếu pred = 0 thì phổi của người này bình thường \n",
        "  - Nếu pred = 1 thì người này đã bị viêm phổi "
      ],
      "metadata": {
        "id": "ivJ_yl2tkiRh"
      }
    }
  ]
}